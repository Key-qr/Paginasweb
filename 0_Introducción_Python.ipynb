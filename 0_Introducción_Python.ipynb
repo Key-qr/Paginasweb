{
  "cells": [
    {
      "cell_type": "markdown",
      "metadata": {
        "id": "I4c0J82DFj5y"
      },
      "source": [
        "# <u>Introducción al Python</u>"
      ]
    },
    {
      "cell_type": "markdown",
      "metadata": {
        "id": "tb_9bFqy9mPv"
      },
      "source": [
        "## ¿Qué es Python?"
      ]
    },
    {
      "cell_type": "markdown",
      "metadata": {
        "id": "rx6uKstN9mPw"
      },
      "source": [
        "Python es un lenguaje de programación interpretado, orientado a objetos, de alto nivel y con semántica dinámica creado por Guido van Rossum en 1991.\n",
        "\n",
        "A continuación haremos una breve introducción de los conceptos y operaciones básicas de Python."
      ]
    },
    {
      "cell_type": "markdown",
      "metadata": {
        "id": "Iyx5bD7Q9mPw"
      },
      "source": [
        "## Celda de código"
      ]
    },
    {
      "cell_type": "code",
      "execution_count": null,
      "metadata": {
        "colab": {
          "base_uri": "https://localhost:8080/"
        },
        "id": "mhP9DgpXETSE",
        "outputId": "9df8f7b5-7553-4adf-96b1-bfe7407124ce"
      },
      "outputs": [
        {
          "output_type": "execute_result",
          "data": {
            "text/plain": [
              "9"
            ]
          },
          "metadata": {},
          "execution_count": 1
        }
      ],
      "source": [
        "#Celda de código\n",
        "4 + 5"
      ]
    },
    {
      "cell_type": "markdown",
      "metadata": {
        "id": "cKKJMN37Ettq"
      },
      "source": [
        "to es un comentario dentro de una celda de texto\n",
        "# Título nivel 1\n",
        "## Título nivel 2\n",
        "### Título nivel 3\n",
        "#### Título nivel 4\n",
        "##### Título nivel 5"
      ]
    },
    {
      "cell_type": "markdown",
      "metadata": {
        "id": "Nr0rz7M99mPy"
      },
      "source": [
        "<center> Texto centrado </center>"
      ]
    },
    {
      "cell_type": "markdown",
      "metadata": {
        "id": "H9x6ym8T9mPy"
      },
      "source": [
        "<i> Cursiva </i>"
      ]
    },
    {
      "cell_type": "markdown",
      "metadata": {
        "id": "3JgHmz_RLnUD"
      },
      "source": [
        "## Tipos de datos básicos"
      ]
    },
    {
      "cell_type": "code",
      "execution_count": null,
      "metadata": {
        "id": "F3hxD09Y9mPy"
      },
      "outputs": [],
      "source": [
        "#Crear una variable\n",
        "x = 25"
      ]
    },
    {
      "cell_type": "code",
      "execution_count": null,
      "metadata": {
        "colab": {
          "base_uri": "https://localhost:8080/"
        },
        "id": "XqjEbTLM9mPz",
        "outputId": "574db4b9-87f7-4ad5-839b-20fda9319116"
      },
      "outputs": [
        {
          "output_type": "execute_result",
          "data": {
            "text/plain": [
              "25"
            ]
          },
          "metadata": {},
          "execution_count": 3
        }
      ],
      "source": [
        "#Consultar el contenido de una variable\n",
        "x"
      ]
    },
    {
      "cell_type": "code",
      "execution_count": null,
      "metadata": {
        "id": "OJzEfOUf9mPz"
      },
      "outputs": [],
      "source": [
        "# Asignación múltiple de variables\n",
        "x, y, z = 1,2,3"
      ]
    },
    {
      "cell_type": "code",
      "execution_count": null,
      "metadata": {
        "colab": {
          "base_uri": "https://localhost:8080/"
        },
        "id": "rGJe6ee99mPz",
        "outputId": "3e87a563-922c-4757-c139-b25fa26b8227"
      },
      "outputs": [
        {
          "output_type": "execute_result",
          "data": {
            "text/plain": [
              "1"
            ]
          },
          "metadata": {},
          "execution_count": 5
        }
      ],
      "source": [
        "x"
      ]
    },
    {
      "cell_type": "code",
      "execution_count": null,
      "metadata": {
        "colab": {
          "base_uri": "https://localhost:8080/"
        },
        "id": "jYofDGZq9mPz",
        "outputId": "7e0ce233-ce1b-417d-9b1a-8a67b6d5b7f6"
      },
      "outputs": [
        {
          "output_type": "execute_result",
          "data": {
            "text/plain": [
              "2"
            ]
          },
          "metadata": {},
          "execution_count": 6
        }
      ],
      "source": [
        "y"
      ]
    },
    {
      "cell_type": "code",
      "execution_count": null,
      "metadata": {
        "colab": {
          "base_uri": "https://localhost:8080/"
        },
        "id": "5MlzKuaj9mP0",
        "outputId": "56c77d9a-c5dc-4045-9949-45cd8935f22e"
      },
      "outputs": [
        {
          "output_type": "execute_result",
          "data": {
            "text/plain": [
              "(1, 2, 3)"
            ]
          },
          "metadata": {},
          "execution_count": 7
        }
      ],
      "source": [
        "x,y,z"
      ]
    },
    {
      "cell_type": "markdown",
      "metadata": {
        "id": "HzxkUK3e9mP0"
      },
      "source": [
        "### Datos numéricos"
      ]
    },
    {
      "cell_type": "code",
      "execution_count": null,
      "metadata": {
        "id": "VjvAebXALFUY"
      },
      "outputs": [],
      "source": [
        "a,b = 25,7"
      ]
    },
    {
      "cell_type": "code",
      "execution_count": null,
      "metadata": {
        "colab": {
          "base_uri": "https://localhost:8080/"
        },
        "id": "JxRvbYCBLu_3",
        "outputId": "135fdeb4-d7e9-4342-a08d-2a315d6461f0"
      },
      "outputs": [
        {
          "output_type": "execute_result",
          "data": {
            "text/plain": [
              "32"
            ]
          },
          "metadata": {},
          "execution_count": 9
        }
      ],
      "source": [
        "a + b"
      ]
    },
    {
      "cell_type": "code",
      "execution_count": null,
      "metadata": {
        "colab": {
          "base_uri": "https://localhost:8080/"
        },
        "id": "AEA8ZgiILx6Q",
        "outputId": "5a66573a-5dda-4666-8b41-e1aea926e575"
      },
      "outputs": [
        {
          "output_type": "execute_result",
          "data": {
            "text/plain": [
              "18"
            ]
          },
          "metadata": {},
          "execution_count": 10
        }
      ],
      "source": [
        "a - b"
      ]
    },
    {
      "cell_type": "code",
      "execution_count": null,
      "metadata": {
        "colab": {
          "base_uri": "https://localhost:8080/"
        },
        "id": "zqW3ooW6Lz7w",
        "outputId": "e3340246-d7b4-45ab-c695-16af19c6114e"
      },
      "outputs": [
        {
          "output_type": "execute_result",
          "data": {
            "text/plain": [
              "175"
            ]
          },
          "metadata": {},
          "execution_count": 11
        }
      ],
      "source": [
        "a * b"
      ]
    },
    {
      "cell_type": "code",
      "execution_count": null,
      "metadata": {
        "colab": {
          "base_uri": "https://localhost:8080/"
        },
        "id": "3OpOSiXFL1lv",
        "outputId": "e4b51f36-e127-461a-b75c-ac1095001e1a"
      },
      "outputs": [
        {
          "output_type": "execute_result",
          "data": {
            "text/plain": [
              "3.5714285714285716"
            ]
          },
          "metadata": {},
          "execution_count": 12
        }
      ],
      "source": [
        "#División real\n",
        "a / b"
      ]
    },
    {
      "cell_type": "code",
      "execution_count": null,
      "metadata": {
        "colab": {
          "base_uri": "https://localhost:8080/"
        },
        "id": "PBXTk-hcL5vG",
        "outputId": "7dc8e9d6-9625-4447-9414-9f68df8f52b5"
      },
      "outputs": [
        {
          "output_type": "execute_result",
          "data": {
            "text/plain": [
              "3"
            ]
          },
          "metadata": {},
          "execution_count": 13
        }
      ],
      "source": [
        "#División entera\n",
        "a // b"
      ]
    },
    {
      "cell_type": "code",
      "execution_count": null,
      "metadata": {
        "colab": {
          "base_uri": "https://localhost:8080/"
        },
        "id": "bQKw57eLMPQs",
        "outputId": "cf1f8ec4-9c04-469d-a5ac-23001c207e17"
      },
      "outputs": [
        {
          "output_type": "execute_result",
          "data": {
            "text/plain": [
              "4"
            ]
          },
          "metadata": {},
          "execution_count": 14
        }
      ],
      "source": [
        "#Residuo (Operador módulo)\n",
        "a % b"
      ]
    },
    {
      "cell_type": "markdown",
      "metadata": {
        "id": "NGV5PVEmN3IR"
      },
      "source": [
        "Al tener diversas operaciones y consultas dentro de una misma celda de código, todas las operaciones son ejecutadas pero solo la última consulta será visible en el output."
      ]
    },
    {
      "cell_type": "code",
      "execution_count": null,
      "metadata": {
        "colab": {
          "base_uri": "https://localhost:8080/"
        },
        "id": "wpitkfm1Maye",
        "outputId": "b14486aa-b193-483f-ab80-5ebb5cf0bd34"
      },
      "outputs": [
        {
          "output_type": "execute_result",
          "data": {
            "text/plain": [
              "(25, 7, 3.5714285714285716)"
            ]
          },
          "metadata": {},
          "execution_count": 15
        }
      ],
      "source": [
        "c = a / b\n",
        "a, b, c"
      ]
    },
    {
      "cell_type": "code",
      "execution_count": null,
      "metadata": {
        "colab": {
          "base_uri": "https://localhost:8080/"
        },
        "id": "Bl_FgPvqM6kK",
        "outputId": "56836203-7b40-4a20-e74d-715f19d3399b"
      },
      "outputs": [
        {
          "output_type": "execute_result",
          "data": {
            "text/plain": [
              "(int, int, float)"
            ]
          },
          "metadata": {},
          "execution_count": 16
        }
      ],
      "source": [
        "#Consultar el tipo de dato de una variable\n",
        "type(a), type(b), type(c)"
      ]
    },
    {
      "cell_type": "code",
      "execution_count": null,
      "metadata": {
        "colab": {
          "base_uri": "https://localhost:8080/"
        },
        "id": "8IDFB0rPSJZR",
        "outputId": "5bcddeb2-a2c1-48e7-9f94-116db415cdb6",
        "scrolled": true
      },
      "outputs": [
        {
          "output_type": "execute_result",
          "data": {
            "text/plain": [
              "3.5714285714285716"
            ]
          },
          "metadata": {},
          "execution_count": 17
        }
      ],
      "source": [
        "c"
      ]
    },
    {
      "cell_type": "code",
      "execution_count": null,
      "metadata": {
        "colab": {
          "base_uri": "https://localhost:8080/"
        },
        "id": "kRUqQF-mStpF",
        "outputId": "79628d74-63bf-425f-9ed9-96b6e214ece3"
      },
      "outputs": [
        {
          "output_type": "execute_result",
          "data": {
            "text/plain": [
              "3.57"
            ]
          },
          "metadata": {},
          "execution_count": 18
        }
      ],
      "source": [
        "#Función útil de redondeo, no requiere importar ningún paquete o módulo adicional\n",
        "\n",
        "round(c, 2)"
      ]
    },
    {
      "cell_type": "code",
      "execution_count": null,
      "metadata": {
        "colab": {
          "base_uri": "https://localhost:8080/"
        },
        "id": "wOAZvXk5NZ_d",
        "outputId": "74ea2d94-f845-4bb3-accd-162be707e20f"
      },
      "outputs": [
        {
          "output_type": "execute_result",
          "data": {
            "text/plain": [
              "4586471424"
            ]
          },
          "metadata": {},
          "execution_count": 19
        }
      ],
      "source": [
        "#Operador exponencial\n",
        "24 ** 7"
      ]
    },
    {
      "cell_type": "code",
      "execution_count": null,
      "metadata": {
        "colab": {
          "base_uri": "https://localhost:8080/"
        },
        "id": "tp71DFIYNt-k",
        "outputId": "252207d5-8c98-4ca8-bb6b-fd622bf3a8ac"
      },
      "outputs": [
        {
          "output_type": "execute_result",
          "data": {
            "text/plain": [
              "22045648154535420669791966099970530509388976806942539996758281713252470649091673608807910038511765858130804072336148189068515154298222037454151067234384765625"
            ]
          },
          "metadata": {},
          "execution_count": 20
        }
      ],
      "source": [
        "#Números muy grandes son soportados en Python\n",
        "5424157445487845 ** 10"
      ]
    },
    {
      "cell_type": "code",
      "execution_count": null,
      "metadata": {
        "colab": {
          "base_uri": "https://localhost:8080/"
        },
        "id": "Xq_rFyOhNyEH",
        "outputId": "1aa58d5b-a41e-4928-d7a0-febb5c32da0f"
      },
      "outputs": [
        {
          "output_type": "execute_result",
          "data": {
            "text/plain": [
              "2.0476725110792193"
            ]
          },
          "metadata": {},
          "execution_count": 21
        }
      ],
      "source": [
        "#Calculando una raiz como la inversa de la exponencial\n",
        "36 ** (1/5)"
      ]
    },
    {
      "cell_type": "markdown",
      "metadata": {
        "id": "rXSPSXpmJnuq"
      },
      "source": [
        "### Datos Booleanos"
      ]
    },
    {
      "cell_type": "code",
      "execution_count": null,
      "metadata": {
        "id": "m9Uwyn6CInVR"
      },
      "outputs": [],
      "source": [
        "b1 = True\n",
        "b2 = True\n",
        "b3 = False"
      ]
    },
    {
      "cell_type": "code",
      "execution_count": null,
      "metadata": {
        "colab": {
          "base_uri": "https://localhost:8080/"
        },
        "id": "4I47hQuJJ0xD",
        "outputId": "d9fa62aa-4b2f-4c65-b41e-a9d9739a4297"
      },
      "outputs": [
        {
          "output_type": "execute_result",
          "data": {
            "text/plain": [
              "(True, True, False)"
            ]
          },
          "metadata": {},
          "execution_count": 24
        }
      ],
      "source": [
        "b1, b2, b3"
      ]
    },
    {
      "cell_type": "code",
      "execution_count": null,
      "metadata": {
        "colab": {
          "base_uri": "https://localhost:8080/"
        },
        "id": "0k_GdFilJ8DA",
        "outputId": "0084ef5c-c010-4b06-e004-a450fd0d2be3"
      },
      "outputs": [
        {
          "output_type": "execute_result",
          "data": {
            "text/plain": [
              "False"
            ]
          },
          "metadata": {},
          "execution_count": 25
        }
      ],
      "source": [
        "#Negación\n",
        "not b1"
      ]
    },
    {
      "cell_type": "code",
      "execution_count": null,
      "metadata": {
        "colab": {
          "base_uri": "https://localhost:8080/"
        },
        "id": "s9W44pNs9mP4",
        "outputId": "c2a80571-4cca-4a70-90ef-2d586ac5c999"
      },
      "outputs": [
        {
          "output_type": "execute_result",
          "data": {
            "text/plain": [
              "False"
            ]
          },
          "metadata": {},
          "execution_count": 26
        }
      ],
      "source": [
        "3 == 5"
      ]
    },
    {
      "cell_type": "code",
      "execution_count": null,
      "metadata": {
        "colab": {
          "base_uri": "https://localhost:8080/"
        },
        "id": "0D7AjsCr9mP4",
        "outputId": "3ea61630-54b0-4392-ccb6-6b170b3bd27c"
      },
      "outputs": [
        {
          "output_type": "execute_result",
          "data": {
            "text/plain": [
              "True"
            ]
          },
          "metadata": {},
          "execution_count": 27
        }
      ],
      "source": [
        "5 > 3"
      ]
    },
    {
      "cell_type": "code",
      "execution_count": null,
      "metadata": {
        "colab": {
          "base_uri": "https://localhost:8080/"
        },
        "id": "mnltgIYnJ_BP",
        "outputId": "eaa82eff-e140-4e23-ab6d-9687b9f9d442"
      },
      "outputs": [
        {
          "output_type": "execute_result",
          "data": {
            "text/plain": [
              "False"
            ]
          },
          "metadata": {},
          "execution_count": 28
        }
      ],
      "source": [
        "#Operador and: si ambas condiciones son verdaderas, todo es verdadero, cc es falso\n",
        "b1 and b3"
      ]
    },
    {
      "cell_type": "code",
      "execution_count": null,
      "metadata": {
        "colab": {
          "base_uri": "https://localhost:8080/"
        },
        "id": "2pSj18wp9mP4",
        "outputId": "f96e15c9-a2f6-4adc-e9ec-3033634ffcbe"
      },
      "outputs": [
        {
          "output_type": "execute_result",
          "data": {
            "text/plain": [
              "True"
            ]
          },
          "metadata": {},
          "execution_count": 29
        }
      ],
      "source": [
        "b1 and b2"
      ]
    },
    {
      "cell_type": "code",
      "execution_count": null,
      "metadata": {
        "id": "nJj333fnK8zc"
      },
      "outputs": [],
      "source": [
        "#Operador or: si ambas condiciones son falsas, todo es falso, cc es verdadero\n",
        "b2 or b3"
      ]
    },
    {
      "cell_type": "code",
      "execution_count": null,
      "metadata": {
        "colab": {
          "base_uri": "https://localhost:8080/"
        },
        "id": "CeTHEc6T9mP4",
        "outputId": "b9e3a692-e377-4dd2-d970-adbf24c667aa"
      },
      "outputs": [
        {
          "output_type": "execute_result",
          "data": {
            "text/plain": [
              "False"
            ]
          },
          "metadata": {},
          "execution_count": 30
        }
      ],
      "source": [
        "not b2 or b3"
      ]
    },
    {
      "cell_type": "code",
      "execution_count": null,
      "metadata": {
        "colab": {
          "base_uri": "https://localhost:8080/"
        },
        "id": "x7EOaAwzK_mB",
        "outputId": "8273884f-5099-43b1-8077-5185065728f5"
      },
      "outputs": [
        {
          "output_type": "execute_result",
          "data": {
            "text/plain": [
              "True"
            ]
          },
          "metadata": {},
          "execution_count": 31
        }
      ],
      "source": [
        "#Operador xor: disyuncion exclusiva - si ambas condiciones son iguales es falso\n",
        "b1 ^ b3"
      ]
    },
    {
      "cell_type": "markdown",
      "metadata": {
        "id": "rLqUNUVO9mP4"
      },
      "source": [
        "#### Operadores relacionales"
      ]
    },
    {
      "cell_type": "code",
      "execution_count": null,
      "metadata": {
        "colab": {
          "base_uri": "https://localhost:8080/"
        },
        "id": "0NCe1vxW9mP4",
        "outputId": "df12f39c-e487-48cc-ae9e-d9cb221ad1c8"
      },
      "outputs": [
        {
          "output_type": "execute_result",
          "data": {
            "text/plain": [
              "False"
            ]
          },
          "metadata": {},
          "execution_count": 32
        }
      ],
      "source": [
        "3 == 4  # Igual que"
      ]
    },
    {
      "cell_type": "code",
      "execution_count": null,
      "metadata": {
        "colab": {
          "base_uri": "https://localhost:8080/"
        },
        "id": "HNoGhzlw9mP4",
        "outputId": "107d7838-461b-4cb7-c848-c4617435e11e"
      },
      "outputs": [
        {
          "output_type": "execute_result",
          "data": {
            "text/plain": [
              "True"
            ]
          },
          "metadata": {},
          "execution_count": 33
        }
      ],
      "source": [
        "3 != 4  # Distinto que"
      ]
    },
    {
      "cell_type": "code",
      "execution_count": null,
      "metadata": {
        "colab": {
          "base_uri": "https://localhost:8080/"
        },
        "id": "5zq9jSUN9mP5",
        "outputId": "fa5ce417-3fea-4129-950f-4c363c09d96e"
      },
      "outputs": [
        {
          "output_type": "execute_result",
          "data": {
            "text/plain": [
              "True"
            ]
          },
          "metadata": {},
          "execution_count": 34
        }
      ],
      "source": [
        "8 < 12  # Menor que"
      ]
    },
    {
      "cell_type": "code",
      "execution_count": null,
      "metadata": {
        "colab": {
          "base_uri": "https://localhost:8080/"
        },
        "id": "B0G1rVf29mP5",
        "outputId": "a041af4d-0528-47a8-f215-d1d77c1bf8a8"
      },
      "outputs": [
        {
          "output_type": "execute_result",
          "data": {
            "text/plain": [
              "True"
            ]
          },
          "metadata": {},
          "execution_count": 35
        }
      ],
      "source": [
        "12 > 7  # Mayor que"
      ]
    },
    {
      "cell_type": "code",
      "execution_count": null,
      "metadata": {
        "colab": {
          "base_uri": "https://localhost:8080/"
        },
        "id": "lR-vkqpK9mP5",
        "outputId": "d40c9507-c936-4f9b-d5de-b16f521a03cb"
      },
      "outputs": [
        {
          "output_type": "execute_result",
          "data": {
            "text/plain": [
              "True"
            ]
          },
          "metadata": {},
          "execution_count": 36
        }
      ],
      "source": [
        "12 <= 12  # Menor o igual que"
      ]
    },
    {
      "cell_type": "code",
      "execution_count": null,
      "metadata": {
        "colab": {
          "base_uri": "https://localhost:8080/"
        },
        "id": "QkXO8ObX9mP5",
        "outputId": "86da8310-fa2a-4c9b-a602-8ef8c3560552"
      },
      "outputs": [
        {
          "output_type": "execute_result",
          "data": {
            "text/plain": [
              "False"
            ]
          },
          "metadata": {},
          "execution_count": 37
        }
      ],
      "source": [
        "4 >= 5  # Mayor o igual que"
      ]
    },
    {
      "cell_type": "markdown",
      "metadata": {
        "id": "tPghjbkO9mP5"
      },
      "source": [
        "#### Operadores lógicos"
      ]
    },
    {
      "cell_type": "code",
      "execution_count": null,
      "metadata": {
        "colab": {
          "base_uri": "https://localhost:8080/"
        },
        "id": "mFx3jq_B9mP5",
        "outputId": "c9500372-b421-4f86-f33e-9071a0767a94"
      },
      "outputs": [
        {
          "output_type": "execute_result",
          "data": {
            "text/plain": [
              "False"
            ]
          },
          "metadata": {},
          "execution_count": 38
        }
      ],
      "source": [
        "5 == 7 and 7 < 12  #False and True"
      ]
    },
    {
      "cell_type": "code",
      "execution_count": null,
      "metadata": {
        "colab": {
          "base_uri": "https://localhost:8080/"
        },
        "id": "g9LPwLMl9mP6",
        "outputId": "a37ab996-8683-492c-81e0-c7f6cb4eedff"
      },
      "outputs": [
        {
          "output_type": "execute_result",
          "data": {
            "text/plain": [
              "True"
            ]
          },
          "metadata": {},
          "execution_count": 39
        }
      ],
      "source": [
        "9 < 12 and 12 > 7  # True and True"
      ]
    },
    {
      "cell_type": "code",
      "execution_count": null,
      "metadata": {
        "colab": {
          "base_uri": "https://localhost:8080/"
        },
        "id": "YArD6yOV9mP6",
        "outputId": "24fa3d26-7cb9-449f-f3f9-95da46b04a23"
      },
      "outputs": [
        {
          "output_type": "execute_result",
          "data": {
            "text/plain": [
              "False"
            ]
          },
          "metadata": {},
          "execution_count": 40
        }
      ],
      "source": [
        "9 < 12 and 12 > 15  # True and False"
      ]
    },
    {
      "cell_type": "code",
      "execution_count": null,
      "metadata": {
        "colab": {
          "base_uri": "https://localhost:8080/"
        },
        "id": "SI54j8nn9mP6",
        "outputId": "09552890-04fe-44ba-886b-1bcef8929968"
      },
      "outputs": [
        {
          "output_type": "execute_result",
          "data": {
            "text/plain": [
              "True"
            ]
          },
          "metadata": {},
          "execution_count": 41
        }
      ],
      "source": [
        "12 == 12 or 15 < 7  # True or False"
      ]
    },
    {
      "cell_type": "code",
      "execution_count": null,
      "metadata": {
        "colab": {
          "base_uri": "https://localhost:8080/"
        },
        "id": "RohKBirS9mP6",
        "outputId": "772e744e-dac6-4324-caa2-e41ccbfa6d40"
      },
      "outputs": [
        {
          "output_type": "execute_result",
          "data": {
            "text/plain": [
              "True"
            ]
          },
          "metadata": {},
          "execution_count": 42
        }
      ],
      "source": [
        "7 > 5 or 9 < 12  # True or True"
      ]
    },
    {
      "cell_type": "code",
      "execution_count": null,
      "metadata": {
        "colab": {
          "base_uri": "https://localhost:8080/"
        },
        "id": "TmryUKmo9mP6",
        "outputId": "813982eb-65af-476a-9251-89a8154e98d5",
        "scrolled": true
      },
      "outputs": [
        {
          "output_type": "execute_result",
          "data": {
            "text/plain": [
              "False"
            ]
          },
          "metadata": {},
          "execution_count": 43
        }
      ],
      "source": [
        "12 == 13 or 15 < 7  # False or False"
      ]
    },
    {
      "cell_type": "markdown",
      "metadata": {
        "id": "nyEqlTMC9mP6"
      },
      "source": [
        "### Datos String"
      ]
    },
    {
      "cell_type": "code",
      "execution_count": null,
      "metadata": {
        "colab": {
          "base_uri": "https://localhost:8080/",
          "height": 36
        },
        "id": "CXFzYUSg9mP6",
        "outputId": "f82e81cf-91ee-4064-f7e8-6e4c2e5ad169"
      },
      "outputs": [
        {
          "output_type": "execute_result",
          "data": {
            "text/plain": [
              "'Hola Data Science - CADPeru'"
            ],
            "application/vnd.google.colaboratory.intrinsic+json": {
              "type": "string"
            }
          },
          "metadata": {},
          "execution_count": 44
        }
      ],
      "source": [
        "'Hola Data Science - CADPeru'"
      ]
    },
    {
      "cell_type": "code",
      "execution_count": null,
      "metadata": {
        "colab": {
          "base_uri": "https://localhost:8080/",
          "height": 36
        },
        "id": "zt_Yna6g9mP6",
        "outputId": "2dd3ab9b-00e6-4267-c05f-21635cab76b8"
      },
      "outputs": [
        {
          "output_type": "execute_result",
          "data": {
            "text/plain": [
              "'Hola Data Science - CADPeru'"
            ],
            "application/vnd.google.colaboratory.intrinsic+json": {
              "type": "string"
            }
          },
          "metadata": {},
          "execution_count": 45
        }
      ],
      "source": [
        "\"Hola Data Science - CADPeru\""
      ]
    },
    {
      "cell_type": "code",
      "execution_count": null,
      "metadata": {
        "colab": {
          "base_uri": "https://localhost:8080/",
          "height": 36
        },
        "id": "9wT0qcPv9mP7",
        "outputId": "1a84c4f7-8712-4c59-abac-bc1383a5efa3"
      },
      "outputs": [
        {
          "output_type": "execute_result",
          "data": {
            "text/plain": [
              "'Este texto incluye unas \" \" '"
            ],
            "application/vnd.google.colaboratory.intrinsic+json": {
              "type": "string"
            }
          },
          "metadata": {},
          "execution_count": 46
        }
      ],
      "source": [
        "'Este texto incluye unas \" \" '"
      ]
    },
    {
      "cell_type": "code",
      "execution_count": null,
      "metadata": {
        "colab": {
          "base_uri": "https://localhost:8080/",
          "height": 36
        },
        "id": "Npz-ETXF9mP7",
        "outputId": "1a048acd-abfe-462b-88e5-aeac9a7e1156"
      },
      "outputs": [
        {
          "output_type": "execute_result",
          "data": {
            "text/plain": [
              "\"Esta 'palabra' se encuentra escrita entre comillas simples\""
            ],
            "application/vnd.google.colaboratory.intrinsic+json": {
              "type": "string"
            }
          },
          "metadata": {},
          "execution_count": 47
        }
      ],
      "source": [
        "\"Esta 'palabra' se encuentra escrita entre comillas simples\""
      ]
    },
    {
      "cell_type": "code",
      "execution_count": null,
      "metadata": {
        "colab": {
          "base_uri": "https://localhost:8080/",
          "height": 36
        },
        "id": "iKb6KnaG9mP8",
        "outputId": "521a0013-5026-42ab-a752-ac04ea457229"
      },
      "outputs": [
        {
          "output_type": "execute_result",
          "data": {
            "text/plain": [
              "'Esta \"palabra\" se encuentra escrita entre comillas dobles'"
            ],
            "application/vnd.google.colaboratory.intrinsic+json": {
              "type": "string"
            }
          },
          "metadata": {},
          "execution_count": 48
        }
      ],
      "source": [
        "\"Esta \\\"palabra\\\" se encuentra escrita entre comillas dobles\""
      ]
    },
    {
      "cell_type": "code",
      "execution_count": null,
      "metadata": {
        "colab": {
          "base_uri": "https://localhost:8080/",
          "height": 36
        },
        "id": "3n_RGV6B9mP8",
        "outputId": "6b673268-8448-4727-a16a-d0c48e242ef8"
      },
      "outputs": [
        {
          "output_type": "execute_result",
          "data": {
            "text/plain": [
              "\"Esta 'palabra' se encuentra escrita entre comillas simples\""
            ],
            "application/vnd.google.colaboratory.intrinsic+json": {
              "type": "string"
            }
          },
          "metadata": {},
          "execution_count": 49
        }
      ],
      "source": [
        "'Esta \\'palabra\\' se encuentra escrita entre comillas simples'"
      ]
    },
    {
      "cell_type": "code",
      "execution_count": null,
      "metadata": {
        "id": "Rz_cQEi1PSQw"
      },
      "outputs": [],
      "source": [
        "s1 = 'Hola, soy un string.'\n",
        "s2 = \"Yo también\""
      ]
    },
    {
      "cell_type": "code",
      "execution_count": null,
      "metadata": {
        "colab": {
          "base_uri": "https://localhost:8080/",
          "height": 36
        },
        "id": "z4U5_WVF9mP8",
        "outputId": "98825a6b-25f7-40b8-fd7d-ee9829441e00"
      },
      "outputs": [
        {
          "output_type": "execute_result",
          "data": {
            "text/plain": [
              "'Hola, soy un string.'"
            ],
            "application/vnd.google.colaboratory.intrinsic+json": {
              "type": "string"
            }
          },
          "metadata": {},
          "execution_count": 51
        }
      ],
      "source": [
        "s1"
      ]
    },
    {
      "cell_type": "code",
      "execution_count": null,
      "metadata": {
        "colab": {
          "base_uri": "https://localhost:8080/"
        },
        "id": "5mIvqhi0P1xd",
        "outputId": "9151184d-3ec6-42a0-c54c-d59426bc6b65",
        "scrolled": true
      },
      "outputs": [
        {
          "output_type": "execute_result",
          "data": {
            "text/plain": [
              "str"
            ]
          },
          "metadata": {},
          "execution_count": 52
        }
      ],
      "source": [
        "type(s2)"
      ]
    },
    {
      "cell_type": "markdown",
      "metadata": {
        "id": "S0Xuw1NVRbu8"
      },
      "source": [
        "## Casting de datos\n",
        "\n",
        "Es la operación de cambio de tipo de dato entre variables:\n",
        "- De int a float\n",
        "- De int a str\n",
        "- De float a str\n",
        "- Viceversa\n",
        "\n",
        "Tener en cuenta que un str se puede convertir a número (int o float) siempre que no tenga otros caracteres, es decir, solo puede estar compuesto por dígitos.\n"
      ]
    },
    {
      "cell_type": "code",
      "execution_count": null,
      "metadata": {
        "colab": {
          "base_uri": "https://localhost:8080/"
        },
        "id": "r9D-S2JdREhm",
        "outputId": "af491dfe-5097-4d86-a631-3eefc11fe842"
      },
      "outputs": [
        {
          "output_type": "execute_result",
          "data": {
            "text/plain": [
              "25"
            ]
          },
          "metadata": {},
          "execution_count": 53
        }
      ],
      "source": [
        "a"
      ]
    },
    {
      "cell_type": "code",
      "execution_count": null,
      "metadata": {
        "colab": {
          "base_uri": "https://localhost:8080/"
        },
        "id": "G_9yzswYRkZE",
        "outputId": "b4fc1d35-8676-4348-a07d-23030e1fc90c"
      },
      "outputs": [
        {
          "output_type": "execute_result",
          "data": {
            "text/plain": [
              "25.0"
            ]
          },
          "metadata": {},
          "execution_count": 54
        }
      ],
      "source": [
        "#De int a float\n",
        "\n",
        "float(a)"
      ]
    },
    {
      "cell_type": "code",
      "execution_count": null,
      "metadata": {
        "id": "3xkeliqb9mP9"
      },
      "outputs": [],
      "source": [
        "a = float(a)"
      ]
    },
    {
      "cell_type": "code",
      "execution_count": null,
      "metadata": {
        "colab": {
          "base_uri": "https://localhost:8080/"
        },
        "id": "ef79UmJN9mP9",
        "outputId": "ec782c2f-1198-4042-ffef-f0a7fbf0b506"
      },
      "outputs": [
        {
          "output_type": "execute_result",
          "data": {
            "text/plain": [
              "float"
            ]
          },
          "metadata": {},
          "execution_count": 56
        }
      ],
      "source": [
        "type(a)"
      ]
    },
    {
      "cell_type": "code",
      "execution_count": null,
      "metadata": {
        "id": "HEg45aYh9mP9"
      },
      "outputs": [],
      "source": [
        "a = int(a)"
      ]
    },
    {
      "cell_type": "code",
      "execution_count": null,
      "metadata": {
        "colab": {
          "base_uri": "https://localhost:8080/"
        },
        "id": "mTQ-1FoT9mP9",
        "outputId": "8828673a-cc30-4397-ee82-65fcd396d44e"
      },
      "outputs": [
        {
          "output_type": "execute_result",
          "data": {
            "text/plain": [
              "int"
            ]
          },
          "metadata": {},
          "execution_count": 59
        }
      ],
      "source": [
        "type(a)"
      ]
    },
    {
      "cell_type": "code",
      "execution_count": null,
      "metadata": {
        "colab": {
          "base_uri": "https://localhost:8080/",
          "height": 36
        },
        "id": "Jcp9DXroRtXk",
        "outputId": "f94720fb-708c-44cc-8f7b-dfd094e519f1"
      },
      "outputs": [
        {
          "output_type": "execute_result",
          "data": {
            "text/plain": [
              "'25'"
            ],
            "application/vnd.google.colaboratory.intrinsic+json": {
              "type": "string"
            }
          },
          "metadata": {},
          "execution_count": 61
        }
      ],
      "source": [
        "#De int a str\n",
        "\n",
        "str(a)"
      ]
    },
    {
      "cell_type": "code",
      "execution_count": null,
      "metadata": {
        "id": "6PA9hicfRxQY"
      },
      "outputs": [],
      "source": [
        "s1 = \"Hola\""
      ]
    },
    {
      "cell_type": "code",
      "execution_count": null,
      "metadata": {
        "colab": {
          "base_uri": "https://localhost:8080/",
          "height": 164
        },
        "id": "unNVJh8lR3LT",
        "outputId": "bf7ffe01-709d-41ab-c379-c08d82723e6f"
      },
      "outputs": [
        {
          "output_type": "error",
          "ename": "ValueError",
          "evalue": "invalid literal for int() with base 10: 'Hola'",
          "traceback": [
            "\u001b[0;31m---------------------------------------------------------------------------\u001b[0m",
            "\u001b[0;31mValueError\u001b[0m                                Traceback (most recent call last)",
            "\u001b[0;32m<ipython-input-63-7206cd6ae9fd>\u001b[0m in \u001b[0;36m<cell line: 2>\u001b[0;34m()\u001b[0m\n\u001b[1;32m      1\u001b[0m \u001b[0;31m#Error, no se puede convertir a int\u001b[0m\u001b[0;34m\u001b[0m\u001b[0;34m\u001b[0m\u001b[0m\n\u001b[0;32m----> 2\u001b[0;31m \u001b[0mint\u001b[0m\u001b[0;34m(\u001b[0m\u001b[0ms1\u001b[0m\u001b[0;34m)\u001b[0m\u001b[0;34m\u001b[0m\u001b[0;34m\u001b[0m\u001b[0m\n\u001b[0m",
            "\u001b[0;31mValueError\u001b[0m: invalid literal for int() with base 10: 'Hola'"
          ]
        }
      ],
      "source": [
        "#Error, no se puede convertir a int\n",
        "int(s1)"
      ]
    },
    {
      "cell_type": "code",
      "execution_count": null,
      "metadata": {
        "id": "7K9SqXaPR5Fe"
      },
      "outputs": [],
      "source": [
        "#Solicitamos la edad y convertimos a int, puesto que la función input() siempre devuelve un str\n",
        "\n",
        "edad = int(input(\"Ingrese la edad: \"))"
      ]
    },
    {
      "cell_type": "code",
      "execution_count": null,
      "metadata": {
        "id": "s0oaDUOk9mP-"
      },
      "outputs": [],
      "source": [
        "type(edad)"
      ]
    },
    {
      "cell_type": "code",
      "execution_count": null,
      "metadata": {
        "id": "4eMrsQX_SDcP"
      },
      "outputs": [],
      "source": [
        "edad + 5"
      ]
    },
    {
      "cell_type": "markdown",
      "metadata": {
        "id": "M-OoEom39mP-"
      },
      "source": [
        "Calcular el producto de 444...444 (150 dígitos) por 777...777 (300 dígitos). Sin escribir el número completo."
      ]
    },
    {
      "cell_type": "code",
      "execution_count": null,
      "metadata": {
        "id": "wBdzAbY-9mP-"
      },
      "outputs": [],
      "source": [
        "int('4' * 150) * int('7' * 300)"
      ]
    },
    {
      "cell_type": "markdown",
      "metadata": {
        "id": "QP1OsgJM9mP-"
      },
      "source": [
        "1. Se replica el string '4' 150 veces.\n",
        "2. Se convierte ese string de 150 caracteres a un entero con la operación de cast.\n",
        "3. Se realiza el mismo proceso con el string '7'.\n",
        "4. Se realiza el cálculo de la multiplicación sin problemas, ambos son enteros."
      ]
    },
    {
      "cell_type": "markdown",
      "metadata": {
        "id": "8-IbC58g9mP-"
      },
      "source": [
        "## Ingreso y Salida de datos"
      ]
    },
    {
      "cell_type": "markdown",
      "metadata": {
        "id": "RvynyU_w9mP_"
      },
      "source": [
        "### Salida de datos: print\n",
        "\n",
        "Es una instrucción que nos permite mostrar correctamente el valor de una cadena (u otros valores/variables) por pantalla."
      ]
    },
    {
      "cell_type": "code",
      "execution_count": null,
      "metadata": {
        "id": "vikoNB8O9mP_"
      },
      "outputs": [],
      "source": [
        "\"Visual .Net\"\n",
        "'Java'\n",
        "'Pyhton'"
      ]
    },
    {
      "cell_type": "code",
      "execution_count": null,
      "metadata": {
        "id": "_SyTE1Ue9mP_"
      },
      "outputs": [],
      "source": [
        "print(\"Visual .Net\")\n",
        "print('Java')\n",
        "print('Python')"
      ]
    },
    {
      "cell_type": "code",
      "execution_count": null,
      "metadata": {
        "id": "0lS-D5ys9mP_"
      },
      "outputs": [],
      "source": [
        "x = 18"
      ]
    },
    {
      "cell_type": "code",
      "execution_count": null,
      "metadata": {
        "id": "ECaHBI3ZHN5A"
      },
      "outputs": [],
      "source": [
        "#Mostrar en pantalla: 2 formas\n",
        "\n",
        "print(\"La variable x vale\", x)\n",
        "print(f\"La variable x vale {x}\")"
      ]
    },
    {
      "cell_type": "code",
      "execution_count": null,
      "metadata": {
        "id": "otzmAfs09mP_"
      },
      "outputs": [],
      "source": [
        "print('Hola','como','estas')"
      ]
    },
    {
      "cell_type": "code",
      "execution_count": null,
      "metadata": {
        "id": "3IpFUu5-9mP_"
      },
      "outputs": [],
      "source": [
        "print(\"Hola\")\n",
        "print(\"Hola\",\"Mundo\")\n",
        "print(\"Hola\",\"Mundo\", sep=\"***\")\n",
        "print(\"Hola\",\"Mundo\", end=\"*****\")"
      ]
    },
    {
      "cell_type": "code",
      "execution_count": null,
      "metadata": {
        "id": "uvd_cqI-9mP_"
      },
      "outputs": [],
      "source": [
        "Nombre = \"Luis\"\n",
        "edad = 30\n",
        "print(Nombre, \"tiene\", edad, \"años de edad.\")"
      ]
    },
    {
      "cell_type": "code",
      "execution_count": null,
      "metadata": {
        "id": "3getNtQJ9mQA"
      },
      "outputs": [],
      "source": [
        "print(\"000\",\"Hola\", sep = '')"
      ]
    },
    {
      "cell_type": "code",
      "execution_count": null,
      "metadata": {
        "id": "zWh6BA1s9mQA"
      },
      "outputs": [],
      "source": [
        "# usando operadores de formato\n",
        "print(\"%s tiene %d años de edad.\" %(Nombre, edad))\n",
        "\n",
        "# d, i   Entero\n",
        "# f      Punto flotante como m.ddddd\n",
        "# s      cadena o string"
      ]
    },
    {
      "cell_type": "code",
      "execution_count": null,
      "metadata": {
        "id": "3Q3uIlXI9mQA"
      },
      "outputs": [],
      "source": [
        "print(\"%s es un alumno de %s que saco de nota %d.\" %('Juan','UC',20))"
      ]
    },
    {
      "cell_type": "code",
      "execution_count": null,
      "metadata": {
        "id": "DCQzoxiD9mQA"
      },
      "outputs": [],
      "source": [
        "precio = 24\n",
        "item = \"banano\"\n",
        "print(\"El %s cuesta %d centavos\"%(item,precio))\n",
        "print(\"El %+10s cuesta %5.2f centavos\"%(item,precio))\n",
        "print(\"El %+10s cuesta %10.2f centavos\"%(item,precio))"
      ]
    },
    {
      "cell_type": "code",
      "execution_count": null,
      "metadata": {
        "id": "jjGoDXeH9mQB"
      },
      "outputs": [],
      "source": [
        "# usando un diccionario de datos\n",
        "\n",
        "diccitem = {\"item\":\"banano\",\"costo\":24}\n",
        "print(\"El %(item)s cuesta %(costo)7.1f centavos\"%diccitem)"
      ]
    },
    {
      "cell_type": "markdown",
      "metadata": {
        "id": "b9GWaEyn9mQB"
      },
      "source": [
        "#### Asignación múltiple de variables"
      ]
    },
    {
      "cell_type": "code",
      "execution_count": null,
      "metadata": {
        "id": "rbojLRWp9mQB"
      },
      "outputs": [],
      "source": [
        "# impresión de datos de diferentes tipos\n",
        "a='string'\n",
        "b=15\n",
        "c=True"
      ]
    },
    {
      "cell_type": "code",
      "execution_count": null,
      "metadata": {
        "id": "ySOZ_Erg9mQB"
      },
      "outputs": [],
      "source": [
        "print(a)\n",
        "print(b)\n",
        "print(c)"
      ]
    },
    {
      "cell_type": "code",
      "execution_count": null,
      "metadata": {
        "id": "DJfUeboI9mQB"
      },
      "outputs": [],
      "source": [
        "a, b, c = 'string', 15, True\n",
        "print(a, b, c)"
      ]
    },
    {
      "cell_type": "markdown",
      "metadata": {
        "id": "_TZk8PHr9mQB"
      },
      "source": [
        "### Ingreso de datos: input"
      ]
    },
    {
      "cell_type": "code",
      "execution_count": null,
      "metadata": {
        "id": "dxDqXxDFHYDr"
      },
      "outputs": [],
      "source": [
        "#Solicitar datos desde la pantalla (siempre se almacena siempre como un string)\n",
        "\n",
        "nombre = input()"
      ]
    },
    {
      "cell_type": "code",
      "execution_count": null,
      "metadata": {
        "id": "ytkB15B19mQC"
      },
      "outputs": [],
      "source": [
        "print(nombre)"
      ]
    },
    {
      "cell_type": "code",
      "execution_count": null,
      "metadata": {
        "id": "PrSJ_5lx9mQC"
      },
      "outputs": [],
      "source": [
        "type(nombre)"
      ]
    },
    {
      "cell_type": "code",
      "execution_count": null,
      "metadata": {
        "id": "fScBc97u9mQC"
      },
      "outputs": [],
      "source": [
        "# podemos agregarle un mensaje a la hora de ingresar datos\n",
        "\n",
        "nombre = input(\"Por favor ingrese su nombre \")"
      ]
    },
    {
      "cell_type": "code",
      "execution_count": null,
      "metadata": {
        "id": "-hCehmcQ9mQC"
      },
      "outputs": [],
      "source": [
        "numero = int(input(\"Ingrese un número \"))"
      ]
    },
    {
      "cell_type": "code",
      "execution_count": null,
      "metadata": {
        "id": "X6VlWD5r9mQC"
      },
      "outputs": [],
      "source": [
        "print(numero)"
      ]
    },
    {
      "cell_type": "code",
      "execution_count": null,
      "metadata": {
        "id": "rXo8ddkh9mQC"
      },
      "outputs": [],
      "source": [
        "type(numero)"
      ]
    },
    {
      "cell_type": "code",
      "execution_count": null,
      "metadata": {
        "id": "VDoXQ5vk9mQC"
      },
      "outputs": [],
      "source": [
        "numero = int(input(\"Ingrese un número \"))"
      ]
    },
    {
      "cell_type": "markdown",
      "metadata": {
        "id": "s9mnhWZ69mQD"
      },
      "source": [
        "#### Ejemplos adicionales:"
      ]
    },
    {
      "cell_type": "code",
      "execution_count": null,
      "metadata": {
        "id": "z4pe-BsI9mQD"
      },
      "outputs": [],
      "source": [
        "nombre = input(\"¿Cómo se llama?\")\n",
        "print(f\"Me alegro de conocerle, {nombre}\")"
      ]
    },
    {
      "cell_type": "markdown",
      "metadata": {
        "id": "Wh_9fXCr9mQD"
      },
      "source": [
        "Si se quiere que Python interprete la entrada como un número entero, se debe utilizar la función int() de la siguiente manera:"
      ]
    },
    {
      "cell_type": "code",
      "execution_count": null,
      "metadata": {
        "id": "oHfEmKn79mQD"
      },
      "outputs": [],
      "source": [
        "cantidad = int(input(\"Dígame una cantidad en pesetas: \"))\n",
        "print(f\"{cantidad} pesetas son {round(cantidad / 166.386, 2)} euros\")"
      ]
    },
    {
      "cell_type": "code",
      "execution_count": null,
      "metadata": {
        "id": "ZnkKf8us9mQE"
      },
      "outputs": [],
      "source": [
        "cantidad = int(input(\"Dígame una cantidad en soles: \"))\n",
        "print(f\"{cantidad} soles son {round(cantidad / 3.95, 2)} dolares\")"
      ]
    },
    {
      "cell_type": "markdown",
      "metadata": {
        "id": "VUa0EOSB9mQE"
      },
      "source": [
        "De la misma manera, para que Python interprete la entrada como un número decimal, se debe utilizar la función float() de la siguiente manera:"
      ]
    },
    {
      "cell_type": "code",
      "execution_count": null,
      "metadata": {
        "id": "w2_PlWcV9mQE"
      },
      "outputs": [],
      "source": [
        "cantidad = float(input(\"Dígame una cantidad en euros (hasta con 2 decimales): \"))\n",
        "print(f\"{cantidad} euros son {round(cantidad * 166.386)} pesetas\")"
      ]
    },
    {
      "cell_type": "markdown",
      "metadata": {
        "id": "FeB8henp9mQE"
      },
      "source": [
        "La función input() sólo puede tener un argumento:"
      ]
    },
    {
      "cell_type": "code",
      "execution_count": null,
      "metadata": {
        "id": "rgsWc5uI9mQE"
      },
      "outputs": [],
      "source": [
        "nombre = input(\"Dígame su nombre: \")\n",
        "apellido = input(f\"Dígame su apellido, {nombre}: \")\n",
        "print(f\"Me alegro de conocerle, {nombre} {apellido}.\")"
      ]
    },
    {
      "cell_type": "code",
      "execution_count": null,
      "metadata": {
        "id": "QMinP4uy9mQE"
      },
      "outputs": [],
      "source": [
        "numero1 = int(input(\"Dígame un número: \"))\n",
        "numero2 = int(input(f\"Dígame un número mayor que {numero1}: \"))\n",
        "print(f\"La diferencia entre ellos es {numero2 - numero1}.\")"
      ]
    },
    {
      "cell_type": "markdown",
      "metadata": {
        "id": "7tYObjFr9mQE"
      },
      "source": [
        "## Ayuda en Python"
      ]
    },
    {
      "cell_type": "code",
      "execution_count": null,
      "metadata": {
        "id": "TbG30QkX9mQE"
      },
      "outputs": [],
      "source": [
        "help(int)"
      ]
    },
    {
      "cell_type": "code",
      "execution_count": null,
      "metadata": {
        "id": "IQJbojBr9mQF"
      },
      "outputs": [],
      "source": [
        "?int"
      ]
    },
    {
      "cell_type": "code",
      "execution_count": null,
      "metadata": {
        "id": "zJUfPknT9mQF",
        "scrolled": true
      },
      "outputs": [],
      "source": [
        "help()"
      ]
    },
    {
      "cell_type": "markdown",
      "metadata": {
        "id": "fH5VFoIGNm1Y"
      },
      "source": [
        "## Importación de librerías"
      ]
    },
    {
      "cell_type": "code",
      "execution_count": null,
      "metadata": {
        "id": "mhUNmByjFn8p"
      },
      "outputs": [],
      "source": [
        "#importar toda la librería con sus funciones\n",
        "import numpy as np"
      ]
    },
    {
      "cell_type": "code",
      "execution_count": null,
      "metadata": {
        "id": "HS8KxiX09mQF"
      },
      "outputs": [],
      "source": [
        "#sólo importar la(s) funcion(es) que se seleccionen de una determinada libería\n",
        "from numpy import sqrt as raiz"
      ]
    },
    {
      "cell_type": "code",
      "execution_count": null,
      "metadata": {
        "id": "QxQuo7UGOAGe"
      },
      "outputs": [],
      "source": [
        "#Llamando a la función log que se encuentra en numpy (alias np)\n",
        "np.log(47)"
      ]
    },
    {
      "cell_type": "code",
      "execution_count": null,
      "metadata": {
        "id": "_91o2DdDOad4"
      },
      "outputs": [],
      "source": [
        "#Llamando a la función sqrt con el alias de raiz (declarado en la importación de librerías)\n",
        "raiz(100)"
      ]
    },
    {
      "cell_type": "code",
      "execution_count": null,
      "metadata": {
        "id": "9raHS995BAP2"
      },
      "outputs": [],
      "source": [
        "#Crea un array unidimensional que contenga los números del 1 al 10 e imprímelo.\n",
        "import numpy as np\n",
        "array = np.arange(1, 11)\n",
        "print(array)"
      ]
    },
    {
      "cell_type": "code",
      "execution_count": null,
      "metadata": {
        "id": "-al7dKe_BFcb"
      },
      "outputs": [],
      "source": [
        "# Crea un array con los números del 1 al 5 y multiplícalo por 2. Luego, suma 5 a todos los elementos.\n",
        "array = np.arange(1, 6)\n",
        "result = (array * 2) + 5\n",
        "print(result)\n"
      ]
    },
    {
      "cell_type": "code",
      "execution_count": null,
      "metadata": {
        "id": "hHY4_r8HBLoT"
      },
      "outputs": [],
      "source": [
        "# Crea una matriz identidad de 4x4 y muestra su forma (shape).\n",
        "matrix = np.eye(4)\n",
        "print(matrix)\n",
        "print(matrix.shape)"
      ]
    },
    {
      "cell_type": "code",
      "execution_count": null,
      "metadata": {
        "id": "N2aauWgEBR8M"
      },
      "outputs": [],
      "source": [
        "# Crea un array de números del 10 al 20 y selecciona los elementos mayores a 15.\n",
        "array = np.arange(10, 21)\n",
        "selected = array[array > 15]\n",
        "print(selected)"
      ]
    },
    {
      "cell_type": "code",
      "execution_count": null,
      "metadata": {
        "id": "Yn4L9VksBoJP"
      },
      "outputs": [],
      "source": [
        "matrix = np.random.rand(3, 3)\n",
        "print(matrix)"
      ]
    },
    {
      "cell_type": "code",
      "execution_count": null,
      "metadata": {
        "id": "2oTUvJ_cBsKF"
      },
      "outputs": [],
      "source": [
        "# Crea un array de 20 números aleatorios entre 1 y 100. Calcula su media, mediana y desviación estándar.\n",
        "array = np.random.randint(1, 101, size=20)\n",
        "mean = np.mean(array)\n",
        "median = np.median(array)\n",
        "std_dev = np.std(array)\n",
        "print(f\"Array: {array}\")\n",
        "print(f\"Media: {mean}, Mediana: {median}, Desviación Estándar: {std_dev}\")"
      ]
    },
    {
      "cell_type": "code",
      "execution_count": null,
      "metadata": {
        "id": "jt0DuZnFB0ao"
      },
      "outputs": [],
      "source": [
        "# Crea un array del 1 al 10 y reemplaza los valores impares por -1.\n",
        "\n",
        "array = np.arange(1, 11)\n",
        "array[array % 2 != 0] = -1\n",
        "print(array)"
      ]
    },
    {
      "cell_type": "code",
      "execution_count": null,
      "metadata": {
        "id": "jzDSFRYaB4Y7"
      },
      "outputs": [],
      "source": [
        "# Crea un array de números del 1 al 12 y conviértelo en una matriz de 3x4.\n",
        "array = np.arange(1, 13)\n",
        "matrix = array.reshape(3, 4)\n",
        "print(matrix)"
      ]
    },
    {
      "cell_type": "code",
      "execution_count": null,
      "metadata": {
        "id": "7Wtsg0uICBhb"
      },
      "outputs": [],
      "source": [
        "# Crea dos matrices de 2x2 y calcula su producto punto.\n",
        "\n",
        "matrix1 = np.array([[1, 2], [3, 4]])\n",
        "matrix2 = np.array([[5, 6], [7, 8]])\n",
        "result = np.dot(matrix1, matrix2)\n",
        "print(result)"
      ]
    },
    {
      "cell_type": "code",
      "execution_count": null,
      "metadata": {
        "id": "b3HlV6qiCJpQ"
      },
      "outputs": [],
      "source": [
        "# Dada una matriz 4x4 con números del 1 al 16, selecciona las esquinas (es decir, los elementos de las posiciones [0,0], [0,3], [3,0], [3,3]).\n",
        "matrix = np.arange(1, 17).reshape(4, 4)\n",
        "corners = matrix[[0, 0, 3, 3], [0, 3, 0, 3]]\n",
        "print(matrix)\n",
        "print(f\"Esquinas: {corners}\")"
      ]
    },
    {
      "cell_type": "code",
      "execution_count": null,
      "metadata": {
        "id": "we2717MY9mQF"
      },
      "outputs": [],
      "source": [
        "# 2 formas de llamar una función de una librería\n",
        "# forma 1\n",
        "from math import sqrt as raiz\n",
        "raiz(81)"
      ]
    },
    {
      "cell_type": "code",
      "execution_count": null,
      "metadata": {
        "id": "ZXaCpv9q9mQG"
      },
      "outputs": [],
      "source": [
        "# forma 2\n",
        "import math\n",
        "math.sqrt(81)"
      ]
    },
    {
      "cell_type": "code",
      "execution_count": null,
      "metadata": {
        "id": "v_DhvH3V9mQG"
      },
      "outputs": [],
      "source": [
        "dir(math)"
      ]
    },
    {
      "cell_type": "code",
      "execution_count": null,
      "metadata": {
        "id": "-KWIpj0M9mQG"
      },
      "outputs": [],
      "source": [
        "math.pi"
      ]
    },
    {
      "cell_type": "code",
      "execution_count": null,
      "metadata": {
        "id": "xgQz_uYr9mQG"
      },
      "outputs": [],
      "source": [
        "math.e"
      ]
    },
    {
      "cell_type": "code",
      "execution_count": null,
      "metadata": {
        "id": "bZPl89NX9mQG"
      },
      "outputs": [],
      "source": [
        "radius = 20\n",
        "pi = math.pi\n",
        "area = pi * radius ** 2\n",
        "area"
      ]
    },
    {
      "cell_type": "code",
      "execution_count": null,
      "metadata": {
        "id": "isdEBz1N9mQH"
      },
      "outputs": [],
      "source": [
        "volume = 4/3*pi*radius**3\n",
        "volume"
      ]
    },
    {
      "cell_type": "code",
      "execution_count": null,
      "metadata": {
        "id": "9E9lCKOR9mQH"
      },
      "outputs": [],
      "source": []
    },
    {
      "cell_type": "code",
      "source": [],
      "metadata": {
        "id": "AMwmtivnLld5"
      },
      "execution_count": null,
      "outputs": []
    }
  ],
  "metadata": {
    "colab": {
      "collapsed_sections": [
        "cKKJMN37Ettq",
        "fH5VFoIGNm1Y"
      ],
      "provenance": []
    },
    "kernelspec": {
      "display_name": "Python 3 (ipykernel)",
      "language": "python",
      "name": "python3"
    },
    "language_info": {
      "codemirror_mode": {
        "name": "ipython",
        "version": 3
      },
      "file_extension": ".py",
      "mimetype": "text/x-python",
      "name": "python",
      "nbconvert_exporter": "python",
      "pygments_lexer": "ipython3",
      "version": "3.9.12"
    }
  },
  "nbformat": 4,
  "nbformat_minor": 0
}